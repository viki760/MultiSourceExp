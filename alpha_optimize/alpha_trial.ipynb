{
 "cells": [
  {
   "cell_type": "code",
   "execution_count": 7,
   "metadata": {},
   "outputs": [],
   "source": [
    "import sys \n",
    "sys.path.append(\"../formula_test/\") "
   ]
  },
  {
   "cell_type": "code",
   "execution_count": 8,
   "metadata": {},
   "outputs": [],
   "source": [
    "from fixed_f_vanilla import vanilla_fg"
   ]
  },
  {
   "cell_type": "code",
   "execution_count": 9,
   "metadata": {},
   "outputs": [
    {
     "ename": "TclError",
     "evalue": "no display name and no $DISPLAY environment variable",
     "output_type": "error",
     "traceback": [
      "\u001b[0;31m---------------------------------------------------------------------------\u001b[0m",
      "\u001b[0;31mTclError\u001b[0m                                  Traceback (most recent call last)",
      "\u001b[1;32m/home/viki/Codes/MultiSource/3/multi_source_exp/MultiSourceExp/alpha_optimize/alpha_trial.ipynb Cell 3\u001b[0m in \u001b[0;36m<cell line: 9>\u001b[0;34m()\u001b[0m\n\u001b[1;32m      <a href='vscode-notebook-cell://wsl%2Bubuntu-20.04/home/viki/Codes/MultiSource/3/multi_source_exp/MultiSourceExp/alpha_optimize/alpha_trial.ipynb#W2sdnNjb2RlLXJlbW90ZQ%3D%3D?line=5'>6</a>\u001b[0m         turtle\u001b[39m.\u001b[39mright(\u001b[39m1\u001b[39m)\n\u001b[1;32m      <a href='vscode-notebook-cell://wsl%2Bubuntu-20.04/home/viki/Codes/MultiSource/3/multi_source_exp/MultiSourceExp/alpha_optimize/alpha_trial.ipynb#W2sdnNjb2RlLXJlbW90ZQ%3D%3D?line=6'>7</a>\u001b[0m         turtle\u001b[39m.\u001b[39mforward(\u001b[39m1\u001b[39m)\n\u001b[0;32m----> <a href='vscode-notebook-cell://wsl%2Bubuntu-20.04/home/viki/Codes/MultiSource/3/multi_source_exp/MultiSourceExp/alpha_optimize/alpha_trial.ipynb#W2sdnNjb2RlLXJlbW90ZQ%3D%3D?line=8'>9</a>\u001b[0m turtle\u001b[39m.\u001b[39;49mcolor(\u001b[39m'\u001b[39;49m\u001b[39mred\u001b[39;49m\u001b[39m'\u001b[39;49m, \u001b[39m'\u001b[39;49m\u001b[39mpink\u001b[39;49m\u001b[39m'\u001b[39;49m)\n\u001b[1;32m     <a href='vscode-notebook-cell://wsl%2Bubuntu-20.04/home/viki/Codes/MultiSource/3/multi_source_exp/MultiSourceExp/alpha_optimize/alpha_trial.ipynb#W2sdnNjb2RlLXJlbW90ZQ%3D%3D?line=9'>10</a>\u001b[0m turtle\u001b[39m.\u001b[39mpensize(\u001b[39m2\u001b[39m)\n\u001b[1;32m     <a href='vscode-notebook-cell://wsl%2Bubuntu-20.04/home/viki/Codes/MultiSource/3/multi_source_exp/MultiSourceExp/alpha_optimize/alpha_trial.ipynb#W2sdnNjb2RlLXJlbW90ZQ%3D%3D?line=10'>11</a>\u001b[0m turtle\u001b[39m.\u001b[39mspeed(\u001b[39m100\u001b[39m)\n",
      "File \u001b[0;32m<string>:6\u001b[0m, in \u001b[0;36mcolor\u001b[0;34m(*args)\u001b[0m\n",
      "File \u001b[0;32m~/anaconda3/envs/tlt/lib/python3.10/turtle.py:3814\u001b[0m, in \u001b[0;36mTurtle.__init__\u001b[0;34m(self, shape, undobuffersize, visible)\u001b[0m\n\u001b[1;32m   3809\u001b[0m \u001b[39mdef\u001b[39;00m \u001b[39m__init__\u001b[39m(\u001b[39mself\u001b[39m,\n\u001b[1;32m   3810\u001b[0m              shape\u001b[39m=\u001b[39m_CFG[\u001b[39m\"\u001b[39m\u001b[39mshape\u001b[39m\u001b[39m\"\u001b[39m],\n\u001b[1;32m   3811\u001b[0m              undobuffersize\u001b[39m=\u001b[39m_CFG[\u001b[39m\"\u001b[39m\u001b[39mundobuffersize\u001b[39m\u001b[39m\"\u001b[39m],\n\u001b[1;32m   3812\u001b[0m              visible\u001b[39m=\u001b[39m_CFG[\u001b[39m\"\u001b[39m\u001b[39mvisible\u001b[39m\u001b[39m\"\u001b[39m]):\n\u001b[1;32m   3813\u001b[0m     \u001b[39mif\u001b[39;00m Turtle\u001b[39m.\u001b[39m_screen \u001b[39mis\u001b[39;00m \u001b[39mNone\u001b[39;00m:\n\u001b[0;32m-> 3814\u001b[0m         Turtle\u001b[39m.\u001b[39m_screen \u001b[39m=\u001b[39m Screen()\n\u001b[1;32m   3815\u001b[0m     RawTurtle\u001b[39m.\u001b[39m\u001b[39m__init__\u001b[39m(\u001b[39mself\u001b[39m, Turtle\u001b[39m.\u001b[39m_screen,\n\u001b[1;32m   3816\u001b[0m                        shape\u001b[39m=\u001b[39mshape,\n\u001b[1;32m   3817\u001b[0m                        undobuffersize\u001b[39m=\u001b[39mundobuffersize,\n\u001b[1;32m   3818\u001b[0m                        visible\u001b[39m=\u001b[39mvisible)\n",
      "File \u001b[0;32m~/anaconda3/envs/tlt/lib/python3.10/turtle.py:3664\u001b[0m, in \u001b[0;36mScreen\u001b[0;34m()\u001b[0m\n\u001b[1;32m   3660\u001b[0m \u001b[39m\"\"\"Return the singleton screen object.\u001b[39;00m\n\u001b[1;32m   3661\u001b[0m \u001b[39mIf none exists at the moment, create a new one and return it,\u001b[39;00m\n\u001b[1;32m   3662\u001b[0m \u001b[39melse return the existing one.\"\"\"\u001b[39;00m\n\u001b[1;32m   3663\u001b[0m \u001b[39mif\u001b[39;00m Turtle\u001b[39m.\u001b[39m_screen \u001b[39mis\u001b[39;00m \u001b[39mNone\u001b[39;00m:\n\u001b[0;32m-> 3664\u001b[0m     Turtle\u001b[39m.\u001b[39m_screen \u001b[39m=\u001b[39m _Screen()\n\u001b[1;32m   3665\u001b[0m \u001b[39mreturn\u001b[39;00m Turtle\u001b[39m.\u001b[39m_screen\n",
      "File \u001b[0;32m~/anaconda3/envs/tlt/lib/python3.10/turtle.py:3680\u001b[0m, in \u001b[0;36m_Screen.__init__\u001b[0;34m(self)\u001b[0m\n\u001b[1;32m   3673\u001b[0m \u001b[39mdef\u001b[39;00m \u001b[39m__init__\u001b[39m(\u001b[39mself\u001b[39m):\n\u001b[1;32m   3674\u001b[0m     \u001b[39m# XXX there is no need for this code to be conditional,\u001b[39;00m\n\u001b[1;32m   3675\u001b[0m     \u001b[39m# as there will be only a single _Screen instance, anyway\u001b[39;00m\n\u001b[1;32m   3676\u001b[0m     \u001b[39m# XXX actually, the turtle demo is injecting root window,\u001b[39;00m\n\u001b[1;32m   3677\u001b[0m     \u001b[39m# so perhaps the conditional creation of a root should be\u001b[39;00m\n\u001b[1;32m   3678\u001b[0m     \u001b[39m# preserved (perhaps by passing it as an optional parameter)\u001b[39;00m\n\u001b[1;32m   3679\u001b[0m     \u001b[39mif\u001b[39;00m _Screen\u001b[39m.\u001b[39m_root \u001b[39mis\u001b[39;00m \u001b[39mNone\u001b[39;00m:\n\u001b[0;32m-> 3680\u001b[0m         _Screen\u001b[39m.\u001b[39m_root \u001b[39m=\u001b[39m \u001b[39mself\u001b[39m\u001b[39m.\u001b[39m_root \u001b[39m=\u001b[39m _Root()\n\u001b[1;32m   3681\u001b[0m         \u001b[39mself\u001b[39m\u001b[39m.\u001b[39m_root\u001b[39m.\u001b[39mtitle(_Screen\u001b[39m.\u001b[39m_title)\n\u001b[1;32m   3682\u001b[0m         \u001b[39mself\u001b[39m\u001b[39m.\u001b[39m_root\u001b[39m.\u001b[39mondestroy(\u001b[39mself\u001b[39m\u001b[39m.\u001b[39m_destroy)\n",
      "File \u001b[0;32m~/anaconda3/envs/tlt/lib/python3.10/turtle.py:435\u001b[0m, in \u001b[0;36m_Root.__init__\u001b[0;34m(self)\u001b[0m\n\u001b[1;32m    434\u001b[0m \u001b[39mdef\u001b[39;00m \u001b[39m__init__\u001b[39m(\u001b[39mself\u001b[39m):\n\u001b[0;32m--> 435\u001b[0m     TK\u001b[39m.\u001b[39;49mTk\u001b[39m.\u001b[39;49m\u001b[39m__init__\u001b[39;49m(\u001b[39mself\u001b[39;49m)\n",
      "File \u001b[0;32m~/anaconda3/envs/tlt/lib/python3.10/tkinter/__init__.py:2299\u001b[0m, in \u001b[0;36mTk.__init__\u001b[0;34m(self, screenName, baseName, className, useTk, sync, use)\u001b[0m\n\u001b[1;32m   2297\u001b[0m         baseName \u001b[39m=\u001b[39m baseName \u001b[39m+\u001b[39m ext\n\u001b[1;32m   2298\u001b[0m interactive \u001b[39m=\u001b[39m \u001b[39mFalse\u001b[39;00m\n\u001b[0;32m-> 2299\u001b[0m \u001b[39mself\u001b[39m\u001b[39m.\u001b[39mtk \u001b[39m=\u001b[39m _tkinter\u001b[39m.\u001b[39;49mcreate(screenName, baseName, className, interactive, wantobjects, useTk, sync, use)\n\u001b[1;32m   2300\u001b[0m \u001b[39mif\u001b[39;00m useTk:\n\u001b[1;32m   2301\u001b[0m     \u001b[39mself\u001b[39m\u001b[39m.\u001b[39m_loadtk()\n",
      "\u001b[0;31mTclError\u001b[0m: no display name and no $DISPLAY environment variable"
     ]
    }
   ],
   "source": []
  }
 ],
 "metadata": {
  "kernelspec": {
   "display_name": "Python 3.10.4 ('tlt')",
   "language": "python",
   "name": "python3"
  },
  "language_info": {
   "codemirror_mode": {
    "name": "ipython",
    "version": 3
   },
   "file_extension": ".py",
   "mimetype": "text/x-python",
   "name": "python",
   "nbconvert_exporter": "python",
   "pygments_lexer": "ipython3",
   "version": "3.10.4"
  },
  "orig_nbformat": 4,
  "vscode": {
   "interpreter": {
    "hash": "f2e9d522604171f0463b89884b697c9add34d7c5f72c7bc678d0ecb2e127eda2"
   }
  }
 },
 "nbformat": 4,
 "nbformat_minor": 2
}
